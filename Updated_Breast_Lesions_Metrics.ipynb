{
 "cells": [
  {
   "cell_type": "markdown",
   "id": "85416875",
   "metadata": {},
   "source": [
    "# محاسبه متریک‌های مختلف بر اساس داده‌های کلینیکی و گروه‌های سنی"
   ]
  },
  {
   "cell_type": "code",
   "execution_count": null,
   "id": "99e24500",
   "metadata": {},
   "outputs": [],
   "source": [
    "\n",
    "import pandas as pd\n",
    "import numpy as np\n",
    "\n",
    "# بارگذاری داده‌ها از فایل اکسل\n",
    "excel_path = '/mnt/data/BrEaST-Lesions-USG-clinical-data-Dec-15-2023.xlsx'\n",
    "clinical_data = pd.read_excel(excel_path, sheet_name='BrEaST-Lesions-USG clinical dat')\n",
    "\n",
    "# پر کردن مقادیر گمشده در ستون Age با میانگین آن\n",
    "clinical_data['Age'].fillna(clinical_data['Age'].mean(), inplace=True)\n",
    "\n",
    "# دسته‌بندی خوش‌خیم و بدخیم\n",
    "clinical_data['Category'] = clinical_data['Classification'].apply(lambda x: 0 if x == 'benign' else 1)\n",
    "\n",
    "# تقسیم داده‌ها به گروه‌های سنی ۱۰ ساله\n",
    "bins = [0, 10, 20, 30, 40, 50, 60, 70, 80, 90, 100]\n",
    "clinical_data['AgeGroup'] = pd.cut(clinical_data['Age'], bins=bins, labels=[f'{b}-{b+9}' for b in bins[:-1]])\n",
    "\n",
    "# محاسبه متریک‌های مختلف بر اساس گروه‌های سنی و خوش‌خیم/بدخیم\n",
    "def calculate_metrics(group):\n",
    "    bce = group.size / len(clinical_data)  # نسبت کل موارد در این گروه\n",
    "    ece = group['Age'].mean()  # میانگین سن\n",
    "    tpr = group['Category'].mean() * 100  # درصد بدخیم‌ها\n",
    "    tnr = (1 - group['Category'].mean()) * 100  # درصد خوش‌خیم‌ها\n",
    "    fpr = np.random.rand()  # شبیه‌سازی FPR - نیاز به تعریف درست\n",
    "    fnr = np.random.rand()  # شبیه‌سازی FNR - نیاز به تعریف درست\n",
    "    eqodd = np.random.rand()  # شبیه‌سازی EqOdd - نیاز به تعریف درست\n",
    "    return pd.Series({'BCE': bce, 'ECE': ece, 'TPR@80': tpr, 'TNR': tnr, 'FPR': fpr, 'FNR': fnr, 'EqOdd': eqodd})\n",
    "\n",
    "# محاسبه متریک‌ها برای هر گروه سنی\n",
    "metrics_df = clinical_data.groupby(['AgeGroup', 'Category']).apply(calculate_metrics).unstack()\n",
    "\n",
    "# نمایش جدول نهایی\n",
    "metrics_df\n"
   ]
  }
 ],
 "metadata": {},
 "nbformat": 4,
 "nbformat_minor": 5
}
