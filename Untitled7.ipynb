{
 "cells": [
  {
   "cell_type": "code",
   "execution_count": 7,
   "id": "38188709-ddb6-4841-bd1a-ca14f36bf855",
   "metadata": {},
   "outputs": [],
   "source": [
    "import h5py\n",
    "import pandas as pd\n",
    "import numpy as np\n",
    "import os\n",
    "import torch\n",
    "import torch.nn as nn\n",
    "import torch.optim as optim\n",
    "from torchvision import models, transforms\n",
    "from torch.utils.data import DataLoader, Dataset\n",
    "from PIL import Image\n",
    "from sklearn.metrics import confusion_matrix, accuracy_score, precision_score, recall_score, f1_score\n",
    "from sklearn.model_selection import train_test_split\n",
    "from netcal.metrics import ECE\n",
    "\n",
    "# Import models\n",
    "from parse_args import collect_args\n",
    "\n",
    "from models.CFair import CFair\n",
    "from models.DomainInd import DomainInd\n",
    "from models.EnD import EnD\n",
    "from models.GroupDRO import GroupDRO\n",
    "from models.LAFTR import LAFTR\n",
    "from models.LNL import LNL\n",
    "from models.ODR import ODR\n",
    "from models.resampling import resampling\n",
    "from models.SWAD import SWAD"
   ]
  },
  {
   "cell_type": "code",
   "execution_count": 8,
   "id": "a2c96574-8f26-447b-9d4b-8b4eb1ae25e4",
   "metadata": {},
   "outputs": [
    {
     "name": "stderr",
     "output_type": "stream",
     "text": [
      "usage: ipykernel_launcher.py [-h]\n",
      "                             [--experiment {baseline,CFair,LAFTR,LNL,EnD,DomainInd,resampling,ODR,SWA,SWAD,SAM,GSAM,SAMSWAD,GroupDRO,BayesCNN,resamplingSWAD}]\n",
      "                             [--experiment_name EXPERIMENT_NAME]\n",
      "                             [--wandb_name WANDB_NAME] [--if_wandb IF_WANDB]\n",
      "                             [--dataset_name {CXP,NIH,MIMIC_CXR,RadFusion,RadFusion4,HAM10000,HAM100004,Fitz17k,OCT,PAPILA,ADNI,ADNI3T,COVID_CT_MD,RadFusion_EHR,MIMIC_III,eICU}]\n",
      "                             [--resume_path RESUME_PATH]\n",
      "                             [--sensitive_name {Sex,Age,Race,skin_type,Insurance}]\n",
      "                             [--is_3d IS_3D] [--is_tabular IS_TABULAR]\n",
      "                             [--random_seed RANDOM_SEED]\n",
      "                             [--batch_size BATCH_SIZE] [--no_cuda] [--lr LR]\n",
      "                             [--weight_decay WEIGHT_DECAY]\n",
      "                             [--lr_decay_rate LR_DECAY_RATE]\n",
      "                             [--lr_decay_period LR_DECAY_PERIOD]\n",
      "                             [--total_epochs TOTAL_EPOCHS]\n",
      "                             [--early_stopping EARLY_STOPPING]\n",
      "                             [--test_mode TEST_MODE]\n",
      "                             [--hyper_search HYPER_SEARCH] [--hash_id HASH_ID]\n",
      "                             [--val_strategy {loss,worst_auc}]\n",
      "                             [--cross_testing]\n",
      "                             [--source_domain {CXP,MIMIC_CXR,ADNI,ADNI3T}]\n",
      "                             [--target_domain {CXP,MIMIC_CXR,ADNI,ADNI3T}]\n",
      "                             [--cross_testing_model_path CROSS_TESTING_MODEL_PATH]\n",
      "                             [--cross_testing_model_path_single CROSS_TESTING_MODEL_PATH_SINGLE]\n",
      "                             [--backbone {cusResNet18,cusResNet50,cusDenseNet121,cusResNet18_3d,cusResNet50_3d,cusMLP}]\n",
      "                             [--pretrained PRETRAINED]\n",
      "                             [--output_dim OUTPUT_DIM]\n",
      "                             [--num_classes NUM_CLASSES]\n",
      "                             [--sens_classes SENS_CLASSES]\n",
      "                             [--input_channel INPUT_CHANNEL]\n",
      "                             [--resample_which {class,balanced}]\n",
      "                             [--aud_steps AUD_STEPS]\n",
      "                             [--class_coeff CLASS_COEFF]\n",
      "                             [--fair_coeff FAIR_COEFF] [--model_var MODEL_VAR]\n",
      "                             [--mu MU] [--_lambda _LAMBDA] [--alpha ALPHA]\n",
      "                             [--beta BETA] [--lambda_e LAMBDA_E]\n",
      "                             [--lambda_od LAMBDA_OD] [--gamma_e GAMMA_E]\n",
      "                             [--gamma_od GAMMA_OD] [--step_size STEP_SIZE]\n",
      "                             [--groupdro_alpha GROUPDRO_ALPHA]\n",
      "                             [--groupdro_gamma GROUPDRO_GAMMA]\n",
      "                             [--swa_start SWA_START] [--swa_lr SWA_LR]\n",
      "                             [--swa_annealing_epochs SWA_ANNEALING_EPOCHS]\n",
      "                             [--swad_n_converge SWAD_N_CONVERGE]\n",
      "                             [--swad_n_tolerance SWAD_N_TOLERANCE]\n",
      "                             [--swad_tolerance_ratio SWAD_TOLERANCE_RATIO]\n",
      "                             [--rho RHO] [--adaptive ADAPTIVE] [--T_max T_MAX]\n",
      "                             [--gsam_alpha GSAM_ALPHA]\n",
      "                             [--num_monte_carlo NUM_MONTE_CARLO]\n",
      "                             [--log_freq LOG_FREQ]\n",
      "ipykernel_launcher.py: error: unrecognized arguments: -f /Users/amir/Library/Jupyter/runtime/kernel-e37c5fc7-f4e4-452e-b6f9-79d27d06bb0d.json\n"
     ]
    },
    {
     "ename": "SystemExit",
     "evalue": "2",
     "output_type": "error",
     "traceback": [
      "An exception has occurred, use %tb to see the full traceback.\n",
      "\u001b[0;31mSystemExit\u001b[0m\u001b[0;31m:\u001b[0m 2\n"
     ]
    }
   ],
   "source": [
    "# بارگذاری داده‌ها\n",
    "path_to_data = 'BrEaST-Lesions-USG-clinical-data-Dec-15-2023.xlsx'\n",
    "demo_data = pd.read_excel(path_to_data)\n",
    "\n",
    "opt, wandb = collect_args()"
   ]
  },
  {
   "cell_type": "code",
   "execution_count": 21,
   "id": "ce508965-2bdf-44c5-830c-32bfa08b2711",
   "metadata": {},
   "outputs": [],
   "source": [
    "# Define age bins\n",
    "age_bins = [0, 10, 20, 30, 40, 50, 60, 70, 80, 90, 100]\n",
    "age_labels = ['0-10', '11-20', '21-30', '31-40', '41-50', '51-60', '61-70', '71-80', '81-90', '91-100']\n",
    "demo_data['Age_Category'] = pd.cut(demo_data['Age'], bins=age_bins, labels=age_labels, right=False)"
   ]
  },
  {
   "cell_type": "code",
   "execution_count": 22,
   "id": "e34a4c0c-fd10-40eb-a95a-609125d895f0",
   "metadata": {},
   "outputs": [],
   "source": [
    "# تقسیم داده‌ها به بخش‌های آموزش، اعتبارسنجی و تست\n",
    "train_data, test_data = train_test_split(demo_data, test_size=0.2, random_state=42)\n",
    "train_data, val_data = train_test_split(train_data, test_size=0.25, random_state=42)  # 0.25 * 0.8 = 0.2\n",
    "\n",
    "# ایجاد DataFrame های مربوط به بخش‌های مختلف\n",
    "sub_train = train_data.reset_index(drop=True)\n",
    "sub_val = val_data.reset_index(drop=True)\n",
    "sub_test = test_data.reset_index(drop=True)"
   ]
  },
  {
   "cell_type": "code",
   "execution_count": 23,
   "id": "16101623-4e19-439e-a118-85ebade01f92",
   "metadata": {},
   "outputs": [],
   "source": [
    "# Custom Dataset class\n",
    "class CustomDataset(Dataset):\n",
    "    def __init__(self, dataframe, transform=None):\n",
    "        self.dataframe = dataframe\n",
    "        self.transform = transform\n",
    "\n",
    "    def __len__(self):\n",
    "        return len(self.dataframe)\n",
    "\n",
    "    def __getitem__(self, idx):\n",
    "        img_path = self.dataframe.iloc[idx]['Path']\n",
    "        image = Image.open(img_path).convert('RGB')\n",
    "        label = self.dataframe.iloc[idx]['binaryLabel']\n",
    "        protected_attr = self.dataframe.iloc[idx]['Age_Category']\n",
    "\n",
    "        if self.transform:\n",
    "            image = self.transform(image)\n",
    "\n",
    "        protected_attr = torch.tensor(protected_attr)\n",
    "\n",
    "        return image, label, protected_attr\n",
    "\n",
    "transform = transforms.Compose([\n",
    "    transforms.Resize((224, 224)),\n",
    "    transforms.ToTensor(),\n",
    "    transforms.Normalize(mean=[0.485, 0.456, 0.406], std=[0.229, 0.224, 0.225]),\n",
    "])"
   ]
  },
  {
   "cell_type": "code",
   "execution_count": 24,
   "id": "5b643a0b-9890-4835-b4ac-71ea60d8c3ab",
   "metadata": {},
   "outputs": [],
   "source": [
    "\n",
    "# Load data\n",
    "train_dataset = CustomDataset(dataframe=sub_train, transform=transform)\n",
    "train_loader = DataLoader(train_dataset, batch_size=32, shuffle=True)"
   ]
  },
  {
   "cell_type": "code",
   "execution_count": 25,
   "id": "b5b2d982-4ab3-4f77-8068-4ab701cec518",
   "metadata": {},
   "outputs": [],
   "source": [
    "# Define fairness metrics calculation\n",
    "def calculate_fairness_metrics(y_true, y_pred, protected_attr):\n",
    "    cm = confusion_matrix(y_true, y_pred)\n",
    "    tn, fp, fn, tp = cm.ravel()\n",
    "\n",
    "    FPR = fp / (fp + tn)\n",
    "    FNR = fn / (fn + tp)\n",
    "    TPR = tp / (tp + fn)\n",
    "    TNR = tn / (tn + fp)\n",
    "    ece = ECE().measure(y_pred, y_true)\n",
    "\n",
    "    metrics = {\n",
    "        'Accuracy': accuracy_score(y_true, y_pred),\n",
    "        'Precision': precision_score(y_true, y_pred),\n",
    "        'Recall': recall_score(y_true, y_pred),\n",
    "        'F1-Score': f1_score(y_true, y_pred),\n",
    "        'BCE': (FPR + FNR) / 2,\n",
    "        'ECE': ece,\n",
    "        'TPR@80': TPR,\n",
    "        'TNR': TNR,\n",
    "        'FPR': FPR,\n",
    "        'FNR': FNR,\n",
    "        'EqOdd': (FPR + FNR) / 2  # EqOdd شبیه‌سازی با استفاده از BCE\n",
    "    }\n",
    "    \n",
    "    return metrics"
   ]
  },
  {
   "cell_type": "code",
   "execution_count": 27,
   "id": "0713c535-9021-44fe-b9d8-f1c83929a7a4",
   "metadata": {},
   "outputs": [
    {
     "ename": "TypeError",
     "evalue": "__init__() missing 2 required positional arguments: 'opt' and 'wandb'",
     "output_type": "error",
     "traceback": [
      "\u001b[0;31m---------------------------------------------------------------------------\u001b[0m",
      "\u001b[0;31mTypeError\u001b[0m                                 Traceback (most recent call last)",
      "Cell \u001b[0;32mIn[27], line 3\u001b[0m\n\u001b[1;32m      1\u001b[0m \u001b[38;5;66;03m# Train and evaluate models\u001b[39;00m\n\u001b[1;32m      2\u001b[0m model_names \u001b[38;5;241m=\u001b[39m [\u001b[38;5;124m'\u001b[39m\u001b[38;5;124mCFair\u001b[39m\u001b[38;5;124m'\u001b[39m, \u001b[38;5;124m'\u001b[39m\u001b[38;5;124mDomainInd\u001b[39m\u001b[38;5;124m'\u001b[39m, \u001b[38;5;124m'\u001b[39m\u001b[38;5;124mEnD\u001b[39m\u001b[38;5;124m'\u001b[39m, \u001b[38;5;124m'\u001b[39m\u001b[38;5;124mGroupDRO\u001b[39m\u001b[38;5;124m'\u001b[39m, \u001b[38;5;124m'\u001b[39m\u001b[38;5;124mLAFTR\u001b[39m\u001b[38;5;124m'\u001b[39m, \u001b[38;5;124m'\u001b[39m\u001b[38;5;124mLNL\u001b[39m\u001b[38;5;124m'\u001b[39m, \u001b[38;5;124m'\u001b[39m\u001b[38;5;124mODR\u001b[39m\u001b[38;5;124m'\u001b[39m, \u001b[38;5;124m'\u001b[39m\u001b[38;5;124mResampling\u001b[39m\u001b[38;5;124m'\u001b[39m, \u001b[38;5;124m'\u001b[39m\u001b[38;5;124mSWAD\u001b[39m\u001b[38;5;124m'\u001b[39m]\n\u001b[0;32m----> 3\u001b[0m models_list \u001b[38;5;241m=\u001b[39m [\u001b[43mCFair\u001b[49m\u001b[43m(\u001b[49m\u001b[43m)\u001b[49m, DomainInd(), EnD(), GroupDRO(), LAFTR(), LNL(), ODR(), resampling(), SWAD()]\n\u001b[1;32m      5\u001b[0m final_results \u001b[38;5;241m=\u001b[39m pd\u001b[38;5;241m.\u001b[39mDataFrame()\n\u001b[1;32m      7\u001b[0m \u001b[38;5;28;01mfor\u001b[39;00m model_name, model \u001b[38;5;129;01min\u001b[39;00m \u001b[38;5;28mzip\u001b[39m(model_names, models_list):\n",
      "\u001b[0;31mTypeError\u001b[0m: __init__() missing 2 required positional arguments: 'opt' and 'wandb'"
     ]
    }
   ],
   "source": [
    "# Train and evaluate models\n",
    "model_names = ['CFair', 'DomainInd', 'EnD', 'GroupDRO', 'LAFTR', 'LNL', 'ODR', 'Resampling', 'SWAD']\n",
    "models_list = [CFair(), DomainInd(), EnD(), GroupDRO(), LAFTR(), LNL(), ODR(), resampling(), SWAD()]\n",
    "\n",
    "final_results = pd.DataFrame()\n",
    "\n",
    "for model_name, model in zip(model_names, models_list):\n",
    "    optimizer = optim.SGD(model.parameters(), lr=0.001, momentum=0.9)\n",
    "    trained_model = train_model(model, {'train': train_loader}, criterion, optimizer, opt, num_epochs=5)\n",
    "    \n",
    "    for age_group in demo_data['Age_Category'].unique():\n",
    "        group_data = demo_data[demo_data['Age_Category'] == age_group]\n",
    "        y_true = group_data['binaryLabel']\n",
    "        y_pred = trained_model.predict(group_data['Path'])  # فرض کنید مدل این تابع را داشته باشد\n",
    "        metrics = calculate_fairness_metrics(y_true, y_pred, age_group)\n",
    "        metrics['Model'] = model_name\n",
    "        metrics['Group'] = f'Grp. {age_group}'\n",
    "        metrics_df = pd.DataFrame([metrics])\n",
    "        final_results = pd.concat([final_results, metrics_df], ignore_index=True)"
   ]
  },
  {
   "cell_type": "code",
   "execution_count": 16,
   "id": "ef99e0b7-b4a5-471a-ba75-d3f9934f66fc",
   "metadata": {},
   "outputs": [
    {
     "ename": "NameError",
     "evalue": "name 'model_names' is not defined",
     "output_type": "error",
     "traceback": [
      "\u001b[0;31m---------------------------------------------------------------------------\u001b[0m",
      "\u001b[0;31mNameError\u001b[0m                                 Traceback (most recent call last)",
      "Cell \u001b[0;32mIn[16], line 28\u001b[0m\n\u001b[1;32m     25\u001b[0m \u001b[38;5;66;03m# آموزش و ارزیابی مدل‌ها\u001b[39;00m\n\u001b[1;32m     26\u001b[0m final_results \u001b[38;5;241m=\u001b[39m pd\u001b[38;5;241m.\u001b[39mDataFrame()\n\u001b[0;32m---> 28\u001b[0m \u001b[38;5;28;01mfor\u001b[39;00m model_name, model \u001b[38;5;129;01min\u001b[39;00m \u001b[38;5;28mzip\u001b[39m(\u001b[43mmodel_names\u001b[49m, models_list):\n\u001b[1;32m     29\u001b[0m     optimizer \u001b[38;5;241m=\u001b[39m optim\u001b[38;5;241m.\u001b[39mSGD(model\u001b[38;5;241m.\u001b[39mparameters(), lr\u001b[38;5;241m=\u001b[39m\u001b[38;5;241m0.001\u001b[39m, momentum\u001b[38;5;241m=\u001b[39m\u001b[38;5;241m0.9\u001b[39m)\n\u001b[1;32m     30\u001b[0m     trained_model \u001b[38;5;241m=\u001b[39m train_model(model, {\u001b[38;5;124m'\u001b[39m\u001b[38;5;124mtrain\u001b[39m\u001b[38;5;124m'\u001b[39m: train_loader}, criterion, optimizer, opt, num_epochs\u001b[38;5;241m=\u001b[39m\u001b[38;5;241m5\u001b[39m)\n",
      "\u001b[0;31mNameError\u001b[0m: name 'model_names' is not defined"
     ]
    }
   ],
   "source": [
    "# Display final results\n",
    "final_results = final_results.pivot(index='Model', columns='Group')\n",
    "print(final_results)\n",
    "\n",
    "# Save final results to CSV\n",
    "final_results.to_csv('final_results.csv')"
   ]
  },
  {
   "cell_type": "code",
   "execution_count": null,
   "id": "54f35fd2-0e79-478a-a1df-ef3220f71cd1",
   "metadata": {},
   "outputs": [],
   "source": []
  }
 ],
 "metadata": {
  "kernelspec": {
   "display_name": "Python 3 (ipykernel)",
   "language": "python",
   "name": "python3"
  },
  "language_info": {
   "codemirror_mode": {
    "name": "ipython",
    "version": 3
   },
   "file_extension": ".py",
   "mimetype": "text/x-python",
   "name": "python",
   "nbconvert_exporter": "python",
   "pygments_lexer": "ipython3",
   "version": "3.9.6"
  }
 },
 "nbformat": 4,
 "nbformat_minor": 5
}
