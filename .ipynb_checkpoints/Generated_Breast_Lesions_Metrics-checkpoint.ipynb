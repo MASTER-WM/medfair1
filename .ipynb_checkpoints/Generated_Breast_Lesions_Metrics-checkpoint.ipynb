{
 "cells": [
  {
   "cell_type": "markdown",
   "id": "82bf30da",
   "metadata": {},
   "source": [
    "# محاسبه متریک‌های مختلف بر اساس داده‌های کلینیکی"
   ]
  },
  {
   "cell_type": "code",
   "execution_count": null,
   "id": "778a3ad3",
   "metadata": {},
   "outputs": [],
   "source": [
    "\n",
    "import pandas as pd\n",
    "import numpy as np\n",
    "\n",
    "# بارگذاری داده‌ها از فایل اکسل\n",
    "excel_path = '/mnt/data/BrEaST-Lesions-USG-clinical-data-Dec-15-2023.xlsx'\n",
    "clinical_data = pd.read_excel(excel_path, sheet_name='BrEaST-Lesions-USG clinical dat')\n",
    "\n",
    "# پر کردن مقادیر گمشده در ستون Age با میانگین آن\n",
    "clinical_data['Age'].fillna(clinical_data['Age'].mean(), inplace=True)\n",
    "\n",
    "# دسته‌بندی خوش‌خیم و بدخیم\n",
    "clinical_data['Category'] = clinical_data['Classification'].apply(lambda x: 0 if x == 'benign' else 1)\n",
    "\n",
    "# ایجاد یک DataFrame برای ذخیره متریک‌های مختلف مانند تصویر ارسالی\n",
    "# ساخت متریک‌های تصادفی شبیه‌سازی شده برای مثال\n",
    "\n",
    "# روش‌ها و متریک‌ها\n",
    "methods = [\"ERM\", \"Resample\", \"DomainInd\", \"LAFTR\", \"CFair\", \"LNL\", \"EnD\", \"ODR\", \"GroupDRO\", \"SWAD\", \"SAM\"]\n",
    "metrics = [\"BCE\", \"ECE\", \"TPR@80\", \"TNR\", \"FPR\", \"FNR\", \"EqOdd\"]\n",
    "groups = [0, 1]\n",
    "\n",
    "# تولید داده‌های تصادفی برای هر متریک و گروه\n",
    "data = {}\n",
    "for metric in metrics:\n",
    "    for grp in groups:\n",
    "        key = f\"{metric}_Grp_{grp}\"\n",
    "        data[key] = [f\"{np.random.rand()*100:.2f}±{np.random.rand():.2f}\" for _ in methods]\n",
    "\n",
    "# ساخت DataFrame نهایی\n",
    "final_df = pd.DataFrame(data, index=methods)\n",
    "\n",
    "# نمایش جدول نهایی\n",
    "final_df\n"
   ]
  }
 ],
 "metadata": {},
 "nbformat": 4,
 "nbformat_minor": 5
}
